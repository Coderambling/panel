{
 "cells": [
  {
   "cell_type": "code",
   "execution_count": null,
   "metadata": {},
   "outputs": [],
   "source": [
    "import panel as pn\n",
    "pn.extension()"
   ]
  },
  {
   "cell_type": "markdown",
   "metadata": {},
   "source": [
    "The ``Log`` inherits from the `Column` layout, thus allows arranging multiple panel objects in a vertical container, but additionally allows truncating the number of objects initially rendered. Unlike Column though, the last object in the list is displayed first.\n",
    "\n",
    "Like `Column`, it has a list-like API with methods to ``append``, ``extend``, ``clear``, ``insert``, ``pop``, ``remove`` and ``__setitem__``, which make it possible to interactively update and modify the layout.\n",
    "\n",
    "#### Parameters:\n",
    "\n",
    "For details on other options for customizing the component see the [layout](../../how_to/layout/index.md) and [styling](../../how_to/styling/index.md) how-to guides.\n",
    "\n",
    "* **``objects``** (list): The list of objects to display in the Column, should not generally be modified directly except when replaced in its entirety.\n",
    "* **`loaded_entries`** (int): Minimum number of visible log entries shown initially.\n",
    "* **`entries_per_load`** (int): Number of log entries to load each time the user scrolls past the scroll_load_threshold.\n",
    "* **`scroll_load_threshold`** (int): Number of pixels from the top of the log to trigger loading more log entries.\n",
    "* **``scroll``** (boolean): Enable scrollbars if the content overflows the size of the container.\n",
    "* **``scroll_position``** (int): Current scroll position of the Column. Setting this value will update the scroll position of the Column. Setting to 0 will scroll to the top.\n",
    "* **``auto_scroll_limit``** (int): Max pixel distance from the latest object in the Column to activate automatic scrolling upon update. Setting to 0 disables auto-scrolling\n",
    "* **``scroll_button_threshold``** (int): Min pixel distance from the latest object in the Column to display the scroll button. Setting to 0 disables the scroll button.\n",
    "* **``view_latest``** (bool): Whether to scroll to the latest object on init. If not enabled the view will be on the first object.\n",
    "___"
   ]
  },
  {
   "cell_type": "markdown",
   "metadata": {},
   "source": [
    "`Log` is a `Column-like` layout that displays a log of objects. It is useful for displaying long outputs with many rows because of its ability to truncate the number of objects rendered at a time."
   ]
  },
  {
   "cell_type": "code",
   "execution_count": null,
   "metadata": {},
   "outputs": [],
   "source": [
    "log = pn.Log(*list(range(1000)), width=200, height=200)\n",
    "log"
   ]
  },
  {
   "cell_type": "markdown",
   "metadata": {},
   "source": [
    "The `scroll_load_threshold` can be adjusted to control when the log will load more data. The default is 0.8, which means that when the user scrolls to 80% of the height of the log, more data will be loaded. The `entries_per_load` can be adjusted to control how many objects are loaded at a time."
   ]
  },
  {
   "cell_type": "code",
   "execution_count": null,
   "metadata": {},
   "outputs": [],
   "source": [
    "log = pn.Log(*list(range(1000)), width=200, height=200, scroll_load_threshold=100, entries_per_load=50)\n",
    "log"
   ]
  }
 ],
 "metadata": {
  "language_info": {
   "name": "python",
   "pygments_lexer": "ipython3"
  }
 },
 "nbformat": 4,
 "nbformat_minor": 2
}
